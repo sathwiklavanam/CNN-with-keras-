{
 "cells": [
  {
   "cell_type": "code",
   "execution_count": 1,
   "id": "a6c22d2a",
   "metadata": {},
   "outputs": [],
   "source": [
    "import numpy as np\n",
    "import matplotlib.pyplot as plt\n",
    "%matplotlib inline\n"
   ]
  },
  {
   "cell_type": "code",
   "execution_count": 2,
   "id": "503b4678",
   "metadata": {},
   "outputs": [],
   "source": [
    "import keras\n",
    "import tensorflow as tf\n",
    "from tensorflow import keras\n",
    "from keras.models import Sequential\n",
    "from tensorflow.keras.layers import Input, Conv2D, Dense, Flatten, Dropout\n",
    "from tensorflow.keras.layers import GlobalMaxPooling2D, MaxPooling2D\n",
    "from tensorflow.keras.layers import BatchNormalization\n",
    "from tensorflow.keras.models import Model\n",
    "from tensorflow.keras import regularizers, optimizers\n",
    "from tensorflow.keras.utils import to_categorical"
   ]
  },
  {
   "cell_type": "code",
   "execution_count": 3,
   "id": "3d190632",
   "metadata": {},
   "outputs": [],
   "source": [
    "from sklearn.metrics import accuracy_score"
   ]
  },
  {
   "cell_type": "code",
   "execution_count": 4,
   "id": "9dced5cb",
   "metadata": {},
   "outputs": [],
   "source": [
    "from tensorflow.keras.datasets import cifar10"
   ]
  },
  {
   "cell_type": "code",
   "execution_count": 5,
   "id": "65c4a212",
   "metadata": {},
   "outputs": [
    {
     "name": "stdout",
     "output_type": "stream",
     "text": [
      "Downloading data from https://www.cs.toronto.edu/~kriz/cifar-10-python.tar.gz\n",
      "170498071/170498071 [==============================] - 667s 4us/step\n"
     ]
    }
   ],
   "source": [
    "(X_train, y_train), (X_test, y_test) = cifar10.load_data()"
   ]
  },
  {
   "cell_type": "code",
   "execution_count": 6,
   "id": "0230baf8",
   "metadata": {},
   "outputs": [
    {
     "data": {
      "text/plain": [
       "<matplotlib.image.AxesImage at 0x1bc3e7f8a90>"
      ]
     },
     "execution_count": 6,
     "metadata": {},
     "output_type": "execute_result"
    },
    {
     "data": {
      "image/png": "[encoded data removed]",
      "text/plain": [
       "<Figure size 640x480 with 1 Axes>"
      ]
     },
     "metadata": {},
     "output_type": "display_data"
    }
   ],
   "source": [
    "plt.imshow(X_train[0])"
   ]
  },
  {
   "cell_type": "code",
   "execution_count": 17,
   "id": "241f3b22",
   "metadata": {},
   "outputs": [
    {
     "data": {
      "text/plain": [
       "<matplotlib.image.AxesImage at 0x1bca55ce1d0>"
      ]
     },
     "execution_count": 17,
     "metadata": {},
     "output_type": "execute_result"
    },
    {
     "data": {
      "image/png": "[encoded data removed]",
      "text/plain": [
       "<Figure size 640x480 with 1 Axes>"
      ]
     },
     "metadata": {},
     "output_type": "display_data"
    }
   ],
   "source": [
    "plt.imshow(X_train[6])"
   ]
  },
  {
   "cell_type": "code",
   "execution_count": 8,
   "id": "dad95c54",
   "metadata": {},
   "outputs": [
    {
     "data": {
      "text/plain": [
       "array([[[154, 177, 187],\n",
       "        [126, 137, 136],\n",
       "        [105, 104,  95],\n",
       "        ...,\n",
       "        [ 91,  95,  71],\n",
       "        [ 87,  90,  71],\n",
       "        [ 79,  81,  70]],\n",
       "\n",
       "       [[140, 160, 169],\n",
       "        [145, 153, 154],\n",
       "        [125, 125, 118],\n",
       "        ...,\n",
       "        [ 96,  99,  78],\n",
       "        [ 77,  80,  62],\n",
       "        [ 71,  73,  61]],\n",
       "\n",
       "       [[140, 155, 164],\n",
       "        [139, 146, 149],\n",
       "        [115, 115, 112],\n",
       "        ...,\n",
       "        [ 79,  82,  64],\n",
       "        [ 68,  70,  55],\n",
       "        [ 67,  69,  55]],\n",
       "\n",
       "       ...,\n",
       "\n",
       "       [[175, 167, 166],\n",
       "        [156, 154, 160],\n",
       "        [154, 160, 170],\n",
       "        ...,\n",
       "        [ 42,  34,  36],\n",
       "        [ 61,  53,  57],\n",
       "        [ 93,  83,  91]],\n",
       "\n",
       "       [[165, 154, 128],\n",
       "        [156, 152, 130],\n",
       "        [159, 161, 142],\n",
       "        ...,\n",
       "        [103,  93,  96],\n",
       "        [123, 114, 120],\n",
       "        [131, 121, 131]],\n",
       "\n",
       "       [[163, 148, 120],\n",
       "        [158, 148, 122],\n",
       "        [163, 156, 133],\n",
       "        ...,\n",
       "        [143, 133, 139],\n",
       "        [143, 134, 142],\n",
       "        [143, 133, 144]]], dtype=uint8)"
      ]
     },
     "execution_count": 8,
     "metadata": {},
     "output_type": "execute_result"
    }
   ],
   "source": [
    "X_train[1]"
   ]
  },
  {
   "cell_type": "code",
   "execution_count": 9,
   "id": "2e7e3174",
   "metadata": {},
   "outputs": [],
   "source": [
    "X_train = X_train/255\n",
    "X_test = X_test/255\n"
   ]
  },
  {
   "cell_type": "code",
   "execution_count": 10,
   "id": "594ada06",
   "metadata": {},
   "outputs": [],
   "source": [
    "y_train_en = to_categorical(y_train,10)"
   ]
  },
  {
   "cell_type": "code",
   "execution_count": 11,
   "id": "3a124eb6",
   "metadata": {},
   "outputs": [],
   "source": [
    "y_test_en = to_categorical(y_test,10)"
   ]
  },
  {
   "cell_type": "code",
   "execution_count": 12,
   "id": "b8b9fc2e",
   "metadata": {},
   "outputs": [],
   "source": [
    "model = Sequential()\n",
    "model.add(Conv2D(32,(4,4),input_shape=(32,32,3),activation='relu'))\n",
    "model.add(MaxPooling2D(pool_size=(2,2)))\n",
    "model.add(Conv2D(32,(4,4),input_shape=(32,32,3),activation='relu'))\n",
    "model.add(MaxPooling2D(pool_size=(2,2)))\n",
    "\n",
    "model.add(Flatten())\n",
    "\n",
    "model.add(Dense(128,activation='relu'))\n",
    "model.add(Dense(10,activation='softmax'))\n",
    "\n",
    "model.compile(loss='categorical_crossentropy',optimizer='adam',metrics=['accuracy'])\n"
   ]
  },
  {
   "cell_type": "code",
   "execution_count": 13,
   "id": "7bfcf2a4",
   "metadata": {},
   "outputs": [
    {
     "name": "stdout",
     "output_type": "stream",
     "text": [
      "Model: \"sequential\"\n",
      "_________________________________________________________________\n",
      " Layer (type)                Output Shape              Param #   \n",
      "=================================================================\n",
      " conv2d (Conv2D)             (None, 29, 29, 32)        1568      \n",
      "                                                                 \n",
      " max_pooling2d (MaxPooling2  (None, 14, 14, 32)        0         \n",
      " D)                                                              \n",
      "                                                                 \n",
      " conv2d_1 (Conv2D)           (None, 11, 11, 32)        16416     \n",
      "                                                                 \n",
      " max_pooling2d_1 (MaxPoolin  (None, 5, 5, 32)          0         \n",
      " g2D)                                                            \n",
      "                                                                 \n",
      " flatten (Flatten)           (None, 800)               0         \n",
      "                                                                 \n",
      " dense (Dense)               (None, 128)               102528    \n",
      "                                                                 \n",
      " dense_1 (Dense)             (None, 10)                1290      \n",
      "                                                                 \n",
      "=================================================================\n",
      "Total params: 121802 (475.79 KB)\n",
      "Trainable params: 121802 (475.79 KB)\n",
      "Non-trainable params: 0 (0.00 Byte)\n",
      "_________________________________________________________________\n"
     ]
    }
   ],
   "source": [
    "model.summary()"
   ]
  },
  {
   "cell_type": "code",
   "execution_count": 14,
   "id": "e6c912bd",
   "metadata": {},
   "outputs": [
    {
     "name": "stdout",
     "output_type": "stream",
     "text": [
      "Epoch 1/20\n",
      "1563/1563 [==============================] - 27s 17ms/step - loss: 1.5116 - accuracy: 0.4541 - val_loss: 1.2941 - val_accuracy: 0.5442\n",
      "Epoch 2/20\n",
      "1563/1563 [==============================] - 29s 19ms/step - loss: 1.1869 - accuracy: 0.5766 - val_loss: 1.1384 - val_accuracy: 0.5970\n",
      "Epoch 3/20\n",
      "1563/1563 [==============================] - 28s 18ms/step - loss: 1.0537 - accuracy: 0.6292 - val_loss: 1.0548 - val_accuracy: 0.6296\n",
      "Epoch 4/20\n",
      "1563/1563 [==============================] - 28s 18ms/step - loss: 0.9596 - accuracy: 0.6650 - val_loss: 1.1306 - val_accuracy: 0.6026\n",
      "Epoch 5/20\n",
      "1563/1563 [==============================] - 28s 18ms/step - loss: 0.8896 - accuracy: 0.6888 - val_loss: 0.9760 - val_accuracy: 0.6526\n",
      "Epoch 6/20\n",
      "1563/1563 [==============================] - 28s 18ms/step - loss: 0.8303 - accuracy: 0.7116 - val_loss: 1.0425 - val_accuracy: 0.6449\n",
      "Epoch 7/20\n",
      "1563/1563 [==============================] - 27s 17ms/step - loss: 0.7785 - accuracy: 0.7276 - val_loss: 0.9914 - val_accuracy: 0.6649\n",
      "Epoch 8/20\n",
      "1563/1563 [==============================] - 28s 18ms/step - loss: 0.7348 - accuracy: 0.7443 - val_loss: 0.9415 - val_accuracy: 0.6748\n",
      "Epoch 9/20\n",
      "1563/1563 [==============================] - 28s 18ms/step - loss: 0.6930 - accuracy: 0.7569 - val_loss: 0.9825 - val_accuracy: 0.6704\n",
      "Epoch 10/20\n",
      "1563/1563 [==============================] - 28s 18ms/step - loss: 0.6539 - accuracy: 0.7704 - val_loss: 0.9372 - val_accuracy: 0.6864\n",
      "Epoch 11/20\n",
      "1563/1563 [==============================] - 28s 18ms/step - loss: 0.6121 - accuracy: 0.7873 - val_loss: 1.0024 - val_accuracy: 0.6780\n",
      "Epoch 12/20\n",
      "1563/1563 [==============================] - 28s 18ms/step - loss: 0.5810 - accuracy: 0.7949 - val_loss: 1.0338 - val_accuracy: 0.6728\n",
      "Epoch 13/20\n",
      "1563/1563 [==============================] - 29s 18ms/step - loss: 0.5434 - accuracy: 0.8081 - val_loss: 1.0234 - val_accuracy: 0.6827\n",
      "Epoch 14/20\n",
      "1563/1563 [==============================] - 28s 18ms/step - loss: 0.5136 - accuracy: 0.8189 - val_loss: 1.0613 - val_accuracy: 0.6813\n",
      "Epoch 15/20\n",
      "1563/1563 [==============================] - 28s 18ms/step - loss: 0.4797 - accuracy: 0.8293 - val_loss: 1.1168 - val_accuracy: 0.6720\n",
      "Epoch 16/20\n",
      "1563/1563 [==============================] - 28s 18ms/step - loss: 0.4526 - accuracy: 0.8397 - val_loss: 1.1747 - val_accuracy: 0.6681\n",
      "Epoch 17/20\n",
      "1563/1563 [==============================] - 27s 17ms/step - loss: 0.4276 - accuracy: 0.8499 - val_loss: 1.2036 - val_accuracy: 0.6684\n",
      "Epoch 18/20\n",
      "1563/1563 [==============================] - 28s 18ms/step - loss: 0.4014 - accuracy: 0.8573 - val_loss: 1.2400 - val_accuracy: 0.6667\n",
      "Epoch 19/20\n",
      "1563/1563 [==============================] - 27s 17ms/step - loss: 0.3773 - accuracy: 0.8652 - val_loss: 1.2583 - val_accuracy: 0.6697\n",
      "Epoch 20/20\n",
      "1563/1563 [==============================] - 28s 18ms/step - loss: 0.3594 - accuracy: 0.8705 - val_loss: 1.3233 - val_accuracy: 0.6714\n"
     ]
    }
   ],
   "source": [
    "history = model.fit(X_train, y_train_en, epochs=20,verbose=1,validation_data=(X_test,y_test_en))"
   ]
  },
  {
   "cell_type": "code",
   "execution_count": null,
   "id": "db588865",
   "metadata": {},
   "outputs": [],
   "source": []
  }
 ],
 "metadata": {
  "kernelspec": {
   "display_name": "Python 3 (ipykernel)",
   "language": "python",
   "name": "python3"
  },
  "language_info": {
   "codemirror_mode": {
    "name": "ipython",
    "version": 3
   },
   "file_extension": ".py",
   "mimetype": "text/x-python",
   "name": "python",
   "nbconvert_exporter": "python",
   "pygments_lexer": "ipython3",
   "version": "3.11.5"
  }
 },
 "nbformat": 4,
 "nbformat_minor": 5
}
